{
  "nbformat": 4,
  "nbformat_minor": 0,
  "metadata": {
    "colab": {
      "provenance": [],
      "gpuType": "T4",
      "include_colab_link": true
    },
    "kernelspec": {
      "name": "python3",
      "display_name": "Python 3"
    },
    "language_info": {
      "name": "python"
    },
    "accelerator": "GPU",
    "gpuClass": "standard"
  },
  "cells": [
    {
      "cell_type": "markdown",
      "metadata": {
        "id": "view-in-github",
        "colab_type": "text"
      },
      "source": [
        "<a href=\"https://colab.research.google.com/github/anatorres09/DE-MRI_Classificacio_CNN/blob/main/Entrenament_CNN.ipynb\" target=\"_parent\"><img src=\"https://colab.research.google.com/assets/colab-badge.svg\" alt=\"Open In Colab\"/></a>"
      ]
    },
    {
      "cell_type": "code",
      "source": [
        "# Connectar a Drive\n",
        "from google.colab import drive\n",
        "drive.mount('/content/drive')"
      ],
      "metadata": {
        "colab": {
          "base_uri": "https://localhost:8080/"
        },
        "id": "KIkP_r4_hCNF",
        "outputId": "6faa47ad-841c-4738-8ef6-5413037f00e7"
      },
      "execution_count": 24,
      "outputs": [
        {
          "output_type": "stream",
          "name": "stdout",
          "text": [
            "Drive already mounted at /content/drive; to attempt to forcibly remount, call drive.mount(\"/content/drive\", force_remount=True).\n"
          ]
        }
      ]
    },
    {
      "cell_type": "code",
      "source": [
        "#Importar llibreries\n",
        "import os\n",
        "from glob import glob\n",
        "import cv2\n",
        "import nibabel as nib\n",
        "import numpy as np\n",
        "from tensorflow.keras.preprocessing.image import ImageDataGenerator\n",
        "from tensorflow.keras.models import Sequential\n",
        "from tensorflow.keras.layers import Conv2D, MaxPooling2D, Flatten, Dense\n",
        "import gc\n",
        "import tensorflow as tf\n",
        "from sklearn.model_selection import train_test_split\n",
        "from sklearn.preprocessing import LabelEncoder\n",
        "from keras.utils import to_categorical\n",
        "from sklearn.metrics import classification_report, confusion_matrix, accuracy_score, precision_score, recall_score, f1_score\n",
        "from joblib import Parallel, delayed\n",
        "import random\n",
        "import matplotlib.pyplot as plt"
      ],
      "metadata": {
        "id": "hB1qkfA2hFrV"
      },
      "execution_count": 25,
      "outputs": []
    },
    {
      "cell_type": "code",
      "source": [
        "drive_folder = '/content/drive/MyDrive/CNN'"
      ],
      "metadata": {
        "id": "zLyQ52AOhGa2"
      },
      "execution_count": 26,
      "outputs": []
    },
    {
      "cell_type": "code",
      "source": [
        "# Ruta de la carpeta principal\n",
        "ruta_carpeta_normal = os.path.join(drive_folder, \"corr_entrenament\", \"corr_normal\")\n",
        "ruta_carpeta_patologic = os.path.join(drive_folder, \"corr_entrenament\", \"corr_patologic\")"
      ],
      "metadata": {
        "id": "Yl9-CCiKuAUp"
      },
      "execution_count": 27,
      "outputs": []
    },
    {
      "cell_type": "code",
      "source": [
        "# Redimensionar les imatges a una mida fixa\n",
        "redimensionar_imatge = (128, 128)\n",
        "\n",
        "# Recollir imatges i etiquetes de la carpeta corr_normal\n",
        "def recollir_imatges_etiquetes(ruta_carpeta, etiqueta, redimensionar_imatge):\n",
        "    casos = [nom_carpeta for nom_carpeta in os.listdir(ruta_carpeta) if os.path.isdir(os.path.join(ruta_carpeta, nom_carpeta))]\n",
        "\n",
        "    imatges = []\n",
        "    etiquetes = []\n",
        "\n",
        "    for cas in casos:\n",
        "        ruta_cas = os.path.join(ruta_carpeta, cas)\n",
        "        rutes_imatges = glob(os.path.join(ruta_cas, '*.png'))\n",
        "\n",
        "        for ruta_imatge in rutes_imatges:\n",
        "            imatge = cv2.imread(ruta_imatge)\n",
        "            imatge = cv2.cvtColor(imatge, cv2.COLOR_BGR2RGB)\n",
        "            \n",
        "            # Redimensionar les imatges\n",
        "            imatge = cv2.resize(imatge, redimensionar_imatge)\n",
        "            \n",
        "            imatges.append(imatge)\n",
        "            etiquetes.append(etiqueta)\n",
        "\n",
        "    return imatges, etiquetes"
      ],
      "metadata": {
        "id": "DHXDRaCECIE1"
      },
      "execution_count": 28,
      "outputs": []
    },
    {
      "cell_type": "code",
      "source": [
        "# Recollir imatges i etiquetes de la carpeta corr_normal\n",
        "imatges_normal, etiquetes_normal = recollir_imatges_etiquetes(ruta_carpeta_normal, \"normal\", redimensionar_imatge)\n",
        "\n",
        "# Recollir imatges i etiquetes de la carpeta corr_patologic\n",
        "imatges_patologic, etiquetes_patologic = recollir_imatges_etiquetes(ruta_carpeta_patologic, \"patologic\", redimensionar_imatge)\n",
        "\n",
        "# Encadenar les llistes d'imatges i etiquetes\n",
        "imatges_total = imatges_normal + imatges_patologic\n",
        "etiquetes_total = etiquetes_normal + etiquetes_patologic\n",
        "\n",
        "# Convertir la llista d'imatges i etiquetes en una matriu numpy\n",
        "matriu_imatges = np.array(imatges_total, dtype='float32')\n",
        "etiquetes = np.array(etiquetes_total)\n",
        "\n",
        "print(f\"S'han recollit {matriu_imatges.shape[0]} imatges en total.\")\n",
        "\n",
        "# Obtenir la quantitat de imatges etiquetades com \"normal\"\n",
        "quantitat_normal = np.count_nonzero(etiquetes == \"normal\")\n",
        "\n",
        "# Obtenir la quntitat de imatges etiquetades com \"patologic\"\n",
        "quantitat_patologic = np.count_nonzero(etiquetes == \"patologic\")\n",
        "\n",
        "print(f\"S'han trobat {quantitat_normal} imatges etiquetades com 'normal'.\")\n",
        "print(f\"S'han trobat {quantitat_patologic} imatges etiquetades com 'patologic'.\")"
      ],
      "metadata": {
        "colab": {
          "base_uri": "https://localhost:8080/"
        },
        "id": "K8yGGVVcGkmk",
        "outputId": "bcd90b97-f9dd-4d09-80dd-642cd35d75bd"
      },
      "execution_count": 29,
      "outputs": [
        {
          "output_type": "stream",
          "name": "stdout",
          "text": [
            "S'han recollit 699 imatges en total.\n",
            "S'han trobat 226 imatges etiquetades com 'normal'.\n",
            "S'han trobat 473 imatges etiquetades com 'patologic'.\n"
          ]
        }
      ]
    },
    {
      "cell_type": "code",
      "source": [
        "# Preprocessat de les imatges\n",
        "# Normalitzar els valors de píxels al rang [0, 1]\n",
        "# imatges = matriu_imatges/ 255.0\n",
        "\n",
        "# Dividir les dades en conjunts d'entrenament i prova\n",
        "X_train, X_test, y_train, y_test = train_test_split(matriu_imatges, etiquetes, test_size=0.2, random_state=42)\n",
        "\n",
        "# Iniciar LabelEncoder\n",
        "label_encoder = LabelEncoder()\n",
        "\n",
        "# Ajustar i transformar etiquetes\n",
        "y_train_encoded = label_encoder.fit_transform(y_train)\n",
        "y_test_encoded = label_encoder.transform(y_test)\n",
        "\n",
        "# Convertir etiquetes codificades en codificació one-hot\n",
        "y_train = tf.one_hot(y_train_encoded, depth=2)\n",
        "y_test = tf.one_hot(y_test_encoded, depth=2)\n",
        "\n",
        "# Construir el model de la CNN\n",
        "model = tf.keras.Sequential([\n",
        "    tf.keras.layers.Conv2D(32, (3, 3), activation='relu', input_shape=X_train[0].shape),\n",
        "    tf.keras.layers.MaxPooling2D((2, 2)),\n",
        "    tf.keras.layers.Conv2D(64, (3, 3), activation='relu'),\n",
        "    tf.keras.layers.MaxPooling2D((2, 2)),\n",
        "    tf.keras.layers.Flatten(),\n",
        "    tf.keras.layers.Dense(64, activation='relu'),\n",
        "    tf.keras.layers.Dense(2, activation='softmax')\n",
        "])\n",
        "\n",
        "# Compilar el model\n",
        "model.compile(optimizer='adam',\n",
        "               loss='categorical_crossentropy',\n",
        "               metrics=['accuracy'])\n",
        "\n",
        "# Crear generadors de dades per l'entrenament i la prova\n",
        "generador_entrenament = tf.keras.preprocessing.image.ImageDataGenerator(rescale=1./255, validation_split=0.3, dtype='float16')\n",
        "generador_prova = tf.keras.preprocessing.image.ImageDataGenerator(rescale=1./255, validation_split=0.3, dtype='float16')\n",
        "\n",
        "# Crear generadors de fluxe de dades per l'entrenament i la prova\n",
        "flujo_entrenament = generador_entrenament.flow(X_train, y_train, batch_size=32)\n",
        "flujo_prova = generador_prova.flow(X_test, y_test, batch_size=32)\n",
        "\n",
        "# Abans d'entrenar el model\n",
        "gc.collect()  # Alliberar la memòria abans de l'entrenament\n",
        "\n",
        "# Crear diccionario de pesos de clase\n",
        "#class_weights = {0: 0.74, 1: 1.54}\n",
        "\n",
        "# Entrenar el model utilitzant generadors de dades\n",
        "#history = model.fit(X_train, y_train, epochs=10, batch_size=32, validation_data=(X_test, y_test), class_weight=class_weights)\n",
        "history = model.fit(X_train, y_train, epochs=15, batch_size=32, validation_data=(X_test, y_test))\n",
        "\n",
        "#Ruta de l'arxiu on es guardarà el model\n",
        "ruta_model = os.path.join(drive_folder, \"model_CNN.h5\")\n",
        "\n",
        "# Guardar el model\n",
        "model.save(ruta_model)\n",
        "print(\"Model de la CNN guardat correctament.\")\n",
        "\n",
        "# Avaluar el model en el conjunt de prova utilitzant generador de dades\n",
        "loss, accuracy = model.evaluate(X_test, y_test)\n",
        "print(f\"Pèrdua en el conjunt de prova: {loss}\")\n",
        "print(f\"Precisió en el conjunt de prova: {accuracy}\")\n",
        "\n",
        "# Obtenir les prediccions del conjunt de prova\n",
        "y_pred = model.predict(X_test)\n",
        "\n",
        "# Convertir les prediccions en etiquetes codificades\n",
        "y_pred_encoded = np.argmax(y_pred, axis=1)\n",
        "y_test_encoded = np.argmax(y_test, axis=1)\n",
        "\n",
        "# Calcular i mostrar la matriu de confussió\n",
        "confusion_mat = confusion_matrix(y_test_encoded, y_pred_encoded)\n",
        "print(\"Matriu de confusió:\")\n",
        "print(confusion_mat)\n",
        "\n",
        "# Calcular i mostrar l'informe de classificació\n",
        "classification_rep = classification_report(y_test_encoded, y_pred_encoded)\n",
        "print(\"Informe de classificació:\")\n",
        "print(classification_rep)\n",
        "\n",
        "# Calcular i mostrar la precisió\n",
        "precision = precision_score(y_test_encoded, y_pred_encoded)\n",
        "print(f\"Precisió: {precision}\")\n",
        "\n",
        "# Calcular i mostrar el recall\n",
        "recall = recall_score(y_test_encoded, y_pred_encoded)\n",
        "print(f\"Recall: {recall}\")\n",
        "\n",
        "# Calcular i mostrar el F1-score\n",
        "f1 = f1_score(y_test_encoded, y_pred_encoded)\n",
        "print(f\"F1-score: {f1}\")\n",
        "\n",
        "# Calcular i mostrar l'exactitut (accuracy)\n",
        "accuracy = accuracy_score(y_test_encoded, y_pred_encoded)\n",
        "print(f\"Exactitut: {accuracy}\")\n",
        "\n",
        "\n",
        "\n",
        "# Gràfics rendiment del model\n",
        "plt.plot(history.history['accuracy'], label='accuracy')\n",
        "plt.plot(history.history['val_accuracy'], label = 'val_accuracy')\n",
        "plt.xlabel('Epoch')\n",
        "plt.ylabel('Accuracy')\n",
        "plt.xlim([0, 15])\n",
        "plt.ylim([0.5, 1])\n",
        "plt.legend(loc='lower right')\n",
        "\n",
        "test_loss, test_acc = model.evaluate(X_test, y_test, verbose=2)\n",
        "print(test_acc)\n",
        "\n",
        "# Alliberar la memòria després d'avaluar el model\n",
        "del X_train, y_train, X_test, y_test\n",
        "gc.collect()  # Alliberar la memòria utilitzada per les variables eliminades"
      ],
      "metadata": {
        "id": "EiuZIZzyFliK",
        "outputId": "4e96a9b0-6613-4eaf-e91e-c15287c45f0c",
        "colab": {
          "base_uri": "https://localhost:8080/",
          "height": 1000
        }
      },
      "execution_count": 30,
      "outputs": [
        {
          "output_type": "stream",
          "name": "stdout",
          "text": [
            "Epoch 1/15\n",
            "18/18 [==============================] - 3s 40ms/step - loss: 405.4409 - accuracy: 0.6190 - val_loss: 1.2691 - val_accuracy: 0.7500\n",
            "Epoch 2/15\n",
            "18/18 [==============================] - 0s 20ms/step - loss: 0.6153 - accuracy: 0.7996 - val_loss: 0.4255 - val_accuracy: 0.8143\n",
            "Epoch 3/15\n",
            "18/18 [==============================] - 0s 18ms/step - loss: 0.4535 - accuracy: 0.8372 - val_loss: 0.3004 - val_accuracy: 0.8571\n",
            "Epoch 4/15\n",
            "18/18 [==============================] - 0s 18ms/step - loss: 0.2931 - accuracy: 0.8658 - val_loss: 0.2299 - val_accuracy: 0.8857\n",
            "Epoch 5/15\n",
            "18/18 [==============================] - 0s 18ms/step - loss: 0.1608 - accuracy: 0.9410 - val_loss: 0.2156 - val_accuracy: 0.9143\n",
            "Epoch 6/15\n",
            "18/18 [==============================] - 0s 20ms/step - loss: 0.2635 - accuracy: 0.8891 - val_loss: 0.2261 - val_accuracy: 0.8929\n",
            "Epoch 7/15\n",
            "18/18 [==============================] - 0s 20ms/step - loss: 0.1577 - accuracy: 0.9338 - val_loss: 0.2582 - val_accuracy: 0.9000\n",
            "Epoch 8/15\n",
            "18/18 [==============================] - 0s 20ms/step - loss: 0.1214 - accuracy: 0.9535 - val_loss: 0.2324 - val_accuracy: 0.9000\n",
            "Epoch 9/15\n",
            "18/18 [==============================] - 0s 19ms/step - loss: 0.0946 - accuracy: 0.9517 - val_loss: 0.2449 - val_accuracy: 0.9143\n",
            "Epoch 10/15\n",
            "18/18 [==============================] - 0s 19ms/step - loss: 0.0796 - accuracy: 0.9678 - val_loss: 0.1214 - val_accuracy: 0.9571\n",
            "Epoch 11/15\n",
            "18/18 [==============================] - 0s 20ms/step - loss: 0.0601 - accuracy: 0.9750 - val_loss: 0.2084 - val_accuracy: 0.9286\n",
            "Epoch 12/15\n",
            "18/18 [==============================] - 0s 20ms/step - loss: 0.0554 - accuracy: 0.9803 - val_loss: 0.1614 - val_accuracy: 0.9214\n",
            "Epoch 13/15\n",
            "18/18 [==============================] - 0s 19ms/step - loss: 0.0701 - accuracy: 0.9732 - val_loss: 0.3062 - val_accuracy: 0.9071\n",
            "Epoch 14/15\n",
            "18/18 [==============================] - 0s 18ms/step - loss: 0.0689 - accuracy: 0.9750 - val_loss: 0.2782 - val_accuracy: 0.9214\n",
            "Epoch 15/15\n",
            "18/18 [==============================] - 0s 20ms/step - loss: 0.0790 - accuracy: 0.9803 - val_loss: 0.2275 - val_accuracy: 0.9286\n",
            "Model de la CNN guardat correctament.\n",
            "5/5 [==============================] - 0s 8ms/step - loss: 0.2275 - accuracy: 0.9286\n",
            "Pèrdua en el conjunt de prova: 0.22748926281929016\n",
            "Precisió en el conjunt de prova: 0.9285714030265808\n",
            "5/5 [==============================] - 0s 6ms/step\n",
            "Matriu de confusió:\n",
            "[[49  5]\n",
            " [ 5 81]]\n",
            "Informe de classificació:\n",
            "              precision    recall  f1-score   support\n",
            "\n",
            "           0       0.91      0.91      0.91        54\n",
            "           1       0.94      0.94      0.94        86\n",
            "\n",
            "    accuracy                           0.93       140\n",
            "   macro avg       0.92      0.92      0.92       140\n",
            "weighted avg       0.93      0.93      0.93       140\n",
            "\n",
            "Precisió: 0.9418604651162791\n",
            "Recall: 0.9418604651162791\n",
            "F1-score: 0.9418604651162791\n",
            "Exactitut: 0.9285714285714286\n",
            "5/5 - 0s - loss: 0.2275 - accuracy: 0.9286 - 51ms/epoch - 10ms/step\n",
            "0.9285714030265808\n"
          ]
        },
        {
          "output_type": "execute_result",
          "data": {
            "text/plain": [
              "4867"
            ]
          },
          "metadata": {},
          "execution_count": 30
        },
        {
          "output_type": "display_data",
          "data": {
            "text/plain": [
              "<Figure size 640x480 with 1 Axes>"
            ],
            "image/png": "[encoded data removed]"
          },
          "metadata": {}
        }
      ]
    }
  ]
}