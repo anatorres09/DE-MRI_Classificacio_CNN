{
  "nbformat": 4,
  "nbformat_minor": 0,
  "metadata": {
    "colab": {
      "provenance": [],
      "gpuType": "T4",
      "include_colab_link": true
    },
    "kernelspec": {
      "name": "python3",
      "display_name": "Python 3"
    },
    "language_info": {
      "name": "python"
    },
    "accelerator": "GPU",
    "gpuClass": "standard"
  },
  "cells": [
    {
      "cell_type": "markdown",
      "metadata": {
        "id": "view-in-github",
        "colab_type": "text"
      },
      "source": [
        "<a href=\"https://colab.research.google.com/github/anatorres09/DE-MRI_Classificacio_CNN/blob/main/model.CNN.ipynb\" target=\"_parent\"><img src=\"https://colab.research.google.com/assets/colab-badge.svg\" alt=\"Open In Colab\"/></a>"
      ]
    },
    {
      "cell_type": "code",
      "source": [
        "# Connectar a Drive\n",
        "from google.colab import drive\n",
        "drive.mount('/content/drive')"
      ],
      "metadata": {
        "colab": {
          "base_uri": "https://localhost:8080/"
        },
        "id": "KIkP_r4_hCNF",
        "outputId": "be849c6c-2e97-4ec6-bd51-b81ea3b7ded5"
      },
      "execution_count": 2,
      "outputs": [
        {
          "output_type": "stream",
          "name": "stdout",
          "text": [
            "Drive already mounted at /content/drive; to attempt to forcibly remount, call drive.mount(\"/content/drive\", force_remount=True).\n"
          ]
        }
      ]
    },
    {
      "cell_type": "code",
      "source": [
        "#Importar llibreries\n",
        "import os\n",
        "import cv2\n",
        "import numpy as np\n",
        "from glob import glob\n",
        "import tensorflow as tf"
      ],
      "metadata": {
        "id": "hB1qkfA2hFrV"
      },
      "execution_count": 6,
      "outputs": []
    },
    {
      "cell_type": "code",
      "source": [
        "# Carregar i preprocés d'imatges per a la predicció\n",
        "ruta_carpeta = '/content/drive/MyDrive/CNN'\n",
        "\n",
        "# Ruta del model\n",
        "ruta_model = os.path.join(ruta_carpeta, \"model_CNN.h5\")\n",
        "\n",
        "# Carregar el model\n",
        "model = tf.keras.models.load_model(ruta_model)\n",
        "\n",
        "ruta_carpeta_test = os.path.join(ruta_carpeta, \"test\")\n",
        "redimensionar_imatge = (128, 128)\n",
        "\n",
        "# Funció per a recollir les imatges\n",
        "def recollir_imatges(ruta_carpeta, redimensionar_imatge):\n",
        "    casos = [nom_carpeta for nom_carpeta in os.listdir(ruta_carpeta) if os.path.isdir(os.path.join(ruta_carpeta, nom_carpeta))]\n",
        "\n",
        "    imatges = []\n",
        "    noms_fitxers = []\n",
        "\n",
        "    for cas in casos:\n",
        "        ruta_cas = os.path.join(ruta_carpeta, cas)\n",
        "        rutes_imatges = glob(os.path.join(ruta_cas, '*.png'))\n",
        "\n",
        "        for ruta_imatge in rutes_imatges:\n",
        "            imatge = cv2.imread(ruta_imatge)\n",
        "            imatge = cv2.cvtColor(imatge, cv2.COLOR_BGR2RGB)\n",
        "            \n",
        "            # Redimensionar les imatges\n",
        "            imatge = cv2.resize(imatge, redimensionar_imatge)\n",
        "            \n",
        "            imatges.append(imatge)\n",
        "            noms_fitxers.append(ruta_imatge)\n",
        "\n",
        "    return imatges, noms_fitxers\n",
        "\n",
        "\n",
        "\n",
        "# Recollir imatges de la carpeta de prova\n",
        "imatges_test, noms_fitxers = recollir_imatges(ruta_carpeta_test, redimensionar_imatge)\n",
        "\n",
        "# Convertir la llista d'imatges en una matriu numpy\n",
        "matriu_imatges_test = np.array(imatges_test, dtype='float32')\n",
        "\n",
        "print(f\"S'han recollit {matriu_imatges_test.shape[0]} imatges en total.\")\n",
        "\n",
        "# Realitzar la predicció utilitzant el model carregat\n",
        "predicciones = model.predict(matriu_imatges_test)\n",
        "\n",
        "# Obtindre les classes predites ('normal' o 'patologic')\n",
        "classes_predites = np.argmax(predicciones, axis=1)\n",
        "\n",
        "# Obtindre les probabilitats màximes\n",
        "probabilidades_maximas = np.max(predicciones, axis=1)\n",
        "\n",
        "# Calcular umbral dinàmic en funció de la probabilitat màxima\n",
        "umbral = np.mean(probabilidades_maximas)\n",
        "\n",
        "# Imprimir les classes predites per a cada imatge en la carpeta de prova\n",
        "for i in range(matriu_imatges_test.shape[0]):\n",
        "    nom_fitxer = os.path.basename(noms_fitxers[i])\n",
        "    classe_predita = classes_predites[i]\n",
        "   \n",
        "    if classe_predita == 0:\n",
        "        classe = 'normal'\n",
        "    else:\n",
        "        classe = 'patologic'\n",
        "    \n",
        "    print(f\"La classe predita per a la imatge {nom_fitxer} és: {classe}\")\n",
        "\n"
      ],
      "metadata": {
        "id": "FAFjt1gNeRXv"
      },
      "execution_count": null,
      "outputs": []
    }
  ]
}