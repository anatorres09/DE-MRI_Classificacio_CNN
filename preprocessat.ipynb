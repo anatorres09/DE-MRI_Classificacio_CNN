{
  "nbformat": 4,
  "nbformat_minor": 0,
  "metadata": {
    "colab": {
      "provenance": [],
      "gpuType": "T4",
      "authorship_tag": "ABX9TyOLV99auMa7TNs6fMLC/kzU",
      "include_colab_link": true
    },
    "kernelspec": {
      "name": "python3",
      "display_name": "Python 3"
    },
    "language_info": {
      "name": "python"
    },
    "accelerator": "GPU",
    "gpuClass": "standard"
  },
  "cells": [
    {
      "cell_type": "markdown",
      "metadata": {
        "id": "view-in-github",
        "colab_type": "text"
      },
      "source": [
        "<a href=\"https://colab.research.google.com/github/anatorres09/DE-MRI_Classificacio_CNN/blob/main/preprocessat.ipynb\" target=\"_parent\"><img src=\"https://colab.research.google.com/assets/colab-badge.svg\" alt=\"Open In Colab\"/></a>"
      ]
    },
    {
      "cell_type": "code",
      "source": [
        "%tensorflow_version 2.x\n",
        "# Clonar el repositori del GitHUb que conté les imatges\n",
        "!git clone https://github.com/anatorres09/DE-MRI_Classificacio_CNN.git\n",
        "! ls"
      ],
      "metadata": {
        "id": "bCNEzKcg3ruj",
        "colab": {
          "base_uri": "https://localhost:8080/"
        },
        "outputId": "42663de0-545e-4588-d500-391cce42ff73"
      },
      "execution_count": 51,
      "outputs": [
        {
          "output_type": "stream",
          "name": "stdout",
          "text": [
            "Colab only includes TensorFlow 2.x; %tensorflow_version has no effect.\n",
            "fatal: destination path 'DE-MRI_Classificacio_CNN' already exists and is not an empty directory.\n",
            "DE-MRI_Classificacio_CNN  drive  sample_data\n"
          ]
        }
      ]
    },
    {
      "cell_type": "code",
      "source": [
        "# Connectar a Drive\n",
        "from google.colab import drive\n",
        "drive.mount('/content/drive')"
      ],
      "metadata": {
        "colab": {
          "base_uri": "https://localhost:8080/"
        },
        "id": "5SefNkJ6h8dE",
        "outputId": "7e592765-f710-40f6-c74c-12e5f4b2d0b2"
      },
      "execution_count": 52,
      "outputs": [
        {
          "output_type": "stream",
          "name": "stdout",
          "text": [
            "Drive already mounted at /content/drive; to attempt to forcibly remount, call drive.mount(\"/content/drive\", force_remount=True).\n"
          ]
        }
      ]
    },
    {
      "cell_type": "code",
      "source": [
        "#Importar llibreries\n",
        "import os\n",
        "import nibabel as nib\n",
        "import numpy as np\n",
        "import matplotlib.pyplot as plt\n",
        "\n",
        "import tensorflow as tf\n",
        "from sklearn.model_selection import train_test_split\n",
        "\n",
        "from tensorflow.keras.preprocessing.image import ImageDataGenerator\n",
        "from tensorflow.keras.models import Sequential\n",
        "from tensorflow.keras.layers import Conv2D, MaxPooling2D, Flatten, Dense\n",
        "\n",
        "from mpl_toolkits.axes_grid1 import ImageGrid\n",
        "from matplotlib.gridspec import GridSpec\n",
        "\n",
        "from skimage.filters import median, rank\n",
        "from skimage.exposure import equalize_adapthist\n",
        "\n",
        "from scipy import ndimage\n",
        "from tensorflow import keras\n",
        "from tensorflow.keras import layers\n",
        "import nibabel as nib\n",
        "import os\n",
        "import urllib.request\n",
        "\n",
        "import random\n",
        "import cv2\n",
        "from keras.models import Sequential\n",
        "from keras.layers import Conv2D, MaxPooling2D, Flatten, Dense\n",
        "\n",
        "from glob import glob\n",
        "\n",
        "import shutil\n",
        "from sklearn.preprocessing import LabelEncoder\n"
      ],
      "metadata": {
        "id": "CWmOCjiy35iW"
      },
      "execution_count": 53,
      "outputs": []
    },
    {
      "cell_type": "code",
      "source": [
        "#ELIMINAR CARPETA CORR_ENTRENAMENT (evitar duplicacions imatges 2D)\n",
        "# Directori on es troben les imatges en format NifTI\n",
        "data_path = '/content/DE-MRI_Classificacio_CNN/dataset' \n",
        "drive_folder = '/content/drive/MyDrive/CNN'\n",
        "\n",
        "# Eliminar la carpeta corr_entrenament si ja existeix\n",
        "\n",
        "# Verificar la existencia de la carpeta corr_entrenament\n",
        "\n",
        "def eliminar_contingut_carpeta(carpeta):\n",
        "  if os.path.exists(directori_corr_entrenament):\n",
        "    for arxiu in os.listdir(carpeta):\n",
        "        ruta_arxiu = os.path.join(carpeta, arxiu)\n",
        "        if os.path.isfile(ruta_arxiu):\n",
        "            os.remove(ruta_arxiu)\n",
        "        elif os.path.isdir(ruta_arxiu):\n",
        "            shutil.rmtree(ruta_arxiu)\n",
        "  else: print(\"La carpeta corr_entrenament no existeix. No es realitza cap acció.\")\n",
        "\n",
        "\n",
        "directori_corr_entrenament = os.path.join(data_path, \"corr_entrenament\")\n",
        "\n",
        "eliminar_contingut_carpeta(directori_corr_entrenament)\n",
        "\n"
      ],
      "metadata": {
        "id": "eTwZsj6NRk_F"
      },
      "execution_count": 54,
      "outputs": []
    },
    {
      "cell_type": "code",
      "execution_count": 55,
      "metadata": {
        "id": "eKxmfPGC0GZG",
        "colab": {
          "base_uri": "https://localhost:8080/"
        },
        "outputId": "934a8805-8431-43e3-814c-537daaa978cd"
      },
      "outputs": [
        {
          "output_type": "stream",
          "name": "stdout",
          "text": [
            "S'han generat 7 imatges 2D en talls per /content/DE-MRI_Classificacio_CNN/dataset/entrenament/normal/Case_N020.nii.\n",
            "S'han generat 8 imatges 2D en talls per /content/DE-MRI_Classificacio_CNN/dataset/entrenament/normal/Case_N024.nii.\n",
            "S'han generat 8 imatges 2D en talls per /content/DE-MRI_Classificacio_CNN/dataset/entrenament/normal/Case_N046.nii.\n",
            "S'han generat 7 imatges 2D en talls per /content/DE-MRI_Classificacio_CNN/dataset/entrenament/normal/Case_N075.nii.\n",
            "S'han generat 7 imatges 2D en talls per /content/DE-MRI_Classificacio_CNN/dataset/entrenament/normal/Case_N058.nii.\n",
            "S'han generat 6 imatges 2D en talls per /content/DE-MRI_Classificacio_CNN/dataset/entrenament/normal/Case_N084.nii.\n",
            "S'han generat 7 imatges 2D en talls per /content/DE-MRI_Classificacio_CNN/dataset/entrenament/normal/Case_N030.nii.\n",
            "S'han generat 8 imatges 2D en talls per /content/DE-MRI_Classificacio_CNN/dataset/entrenament/normal/Case_N049.nii.\n",
            "S'han generat 7 imatges 2D en talls per /content/DE-MRI_Classificacio_CNN/dataset/entrenament/normal/Case_N041.nii.\n",
            "S'han generat 6 imatges 2D en talls per /content/DE-MRI_Classificacio_CNN/dataset/entrenament/normal/Case_N052.nii.\n",
            "S'han generat 7 imatges 2D en talls per /content/DE-MRI_Classificacio_CNN/dataset/entrenament/normal/Case_N034.nii.\n",
            "S'han generat 8 imatges 2D en talls per /content/DE-MRI_Classificacio_CNN/dataset/entrenament/normal/Case_N025.nii.\n",
            "S'han generat 9 imatges 2D en talls per /content/DE-MRI_Classificacio_CNN/dataset/entrenament/normal/Case_N027.nii.\n",
            "S'han generat 8 imatges 2D en talls per /content/DE-MRI_Classificacio_CNN/dataset/entrenament/normal/Case_N018.nii.\n",
            "S'han generat 7 imatges 2D en talls per /content/DE-MRI_Classificacio_CNN/dataset/entrenament/normal/Case_N083.nii.\n",
            "S'han generat 5 imatges 2D en talls per /content/DE-MRI_Classificacio_CNN/dataset/entrenament/normal/Case_N065.nii.\n",
            "S'han generat 7 imatges 2D en talls per /content/DE-MRI_Classificacio_CNN/dataset/entrenament/normal/Case_N079.nii.\n",
            "S'han generat 7 imatges 2D en talls per /content/DE-MRI_Classificacio_CNN/dataset/entrenament/normal/Case_N033.nii.\n",
            "S'han generat 4 imatges 2D en talls per /content/DE-MRI_Classificacio_CNN/dataset/entrenament/normal/Case_N016.nii.\n",
            "S'han generat 6 imatges 2D en talls per /content/DE-MRI_Classificacio_CNN/dataset/entrenament/normal/Case_N014.nii.\n",
            "S'han generat 7 imatges 2D en talls per /content/DE-MRI_Classificacio_CNN/dataset/entrenament/normal/Case_N042.nii.\n",
            "S'han generat 7 imatges 2D en talls per /content/DE-MRI_Classificacio_CNN/dataset/entrenament/normal/Case_N032.nii.\n",
            "S'han generat 6 imatges 2D en talls per /content/DE-MRI_Classificacio_CNN/dataset/entrenament/normal/Case_N048.nii.\n",
            "S'han generat 7 imatges 2D en talls per /content/DE-MRI_Classificacio_CNN/dataset/entrenament/normal/Case_N089.nii.\n",
            "S'han generat 8 imatges 2D en talls per /content/DE-MRI_Classificacio_CNN/dataset/entrenament/normal/Case_N023.nii.\n",
            "S'han generat 7 imatges 2D en talls per /content/DE-MRI_Classificacio_CNN/dataset/entrenament/normal/Case_N054.nii.\n",
            "S'han generat 9 imatges 2D en talls per /content/DE-MRI_Classificacio_CNN/dataset/entrenament/normal/Case_N012.nii.\n",
            "S'han generat 8 imatges 2D en talls per /content/DE-MRI_Classificacio_CNN/dataset/entrenament/normal/Case_N013.nii.\n",
            "S'han generat 8 imatges 2D en talls per /content/DE-MRI_Classificacio_CNN/dataset/entrenament/normal/Case_N070.nii.\n",
            "S'han generat 7 imatges 2D en talls per /content/DE-MRI_Classificacio_CNN/dataset/entrenament/normal/Case_N037.nii.\n",
            "S'han generat 7 imatges 2D en talls per /content/DE-MRI_Classificacio_CNN/dataset/entrenament/normal/Case_N068.nii.\n",
            "S'han generat 6 imatges 2D en talls per /content/DE-MRI_Classificacio_CNN/dataset/entrenament/normal/Case_N040.nii.\n",
            "S'han generat 8 imatges 2D en talls per /content/DE-MRI_Classificacio_CNN/dataset/entrenament/patologic/Case_P002.nii.\n",
            "S'han generat 10 imatges 2D en talls per /content/DE-MRI_Classificacio_CNN/dataset/entrenament/patologic/Case_P094.nii.\n",
            "S'han generat 7 imatges 2D en talls per /content/DE-MRI_Classificacio_CNN/dataset/entrenament/patologic/Case_P100.nii.\n",
            "S'han generat 6 imatges 2D en talls per /content/DE-MRI_Classificacio_CNN/dataset/entrenament/patologic/Case_P091.nii.\n",
            "S'han generat 9 imatges 2D en talls per /content/DE-MRI_Classificacio_CNN/dataset/entrenament/patologic/Case_P019.nii.\n",
            "S'han generat 8 imatges 2D en talls per /content/DE-MRI_Classificacio_CNN/dataset/entrenament/patologic/Case_P009.nii.\n",
            "S'han generat 7 imatges 2D en talls per /content/DE-MRI_Classificacio_CNN/dataset/entrenament/patologic/Case_P078.nii.\n",
            "S'han generat 6 imatges 2D en talls per /content/DE-MRI_Classificacio_CNN/dataset/entrenament/patologic/Case_P004.nii.\n",
            "S'han generat 9 imatges 2D en talls per /content/DE-MRI_Classificacio_CNN/dataset/entrenament/patologic/Case_P057.nii.\n",
            "S'han generat 7 imatges 2D en talls per /content/DE-MRI_Classificacio_CNN/dataset/entrenament/patologic/Case_P010.nii.\n",
            "S'han generat 5 imatges 2D en talls per /content/DE-MRI_Classificacio_CNN/dataset/entrenament/patologic/Case_P071.nii.\n",
            "S'han generat 5 imatges 2D en talls per /content/DE-MRI_Classificacio_CNN/dataset/entrenament/patologic/Case_P051.nii.\n",
            "S'han generat 9 imatges 2D en talls per /content/DE-MRI_Classificacio_CNN/dataset/entrenament/patologic/Case_P096.nii.\n",
            "S'han generat 9 imatges 2D en talls per /content/DE-MRI_Classificacio_CNN/dataset/entrenament/patologic/Case_P059.nii.\n",
            "S'han generat 5 imatges 2D en talls per /content/DE-MRI_Classificacio_CNN/dataset/entrenament/patologic/Case_P039.nii.\n",
            "S'han generat 5 imatges 2D en talls per /content/DE-MRI_Classificacio_CNN/dataset/entrenament/patologic/Case_P043.nii.\n",
            "S'han generat 8 imatges 2D en talls per /content/DE-MRI_Classificacio_CNN/dataset/entrenament/patologic/Case_P008.nii.\n",
            "S'han generat 10 imatges 2D en talls per /content/DE-MRI_Classificacio_CNN/dataset/entrenament/patologic/Case_P001.nii.\n",
            "S'han generat 7 imatges 2D en talls per /content/DE-MRI_Classificacio_CNN/dataset/entrenament/patologic/Case_P088.nii.\n",
            "S'han generat 8 imatges 2D en talls per /content/DE-MRI_Classificacio_CNN/dataset/entrenament/patologic/Case_P028.nii.\n",
            "S'han generat 8 imatges 2D en talls per /content/DE-MRI_Classificacio_CNN/dataset/entrenament/patologic/Case_P090.nii.\n",
            "S'han generat 6 imatges 2D en talls per /content/DE-MRI_Classificacio_CNN/dataset/entrenament/patologic/Case_P029.nii.\n",
            "S'han generat 7 imatges 2D en talls per /content/DE-MRI_Classificacio_CNN/dataset/entrenament/patologic/Case_P076.nii.\n",
            "S'han generat 9 imatges 2D en talls per /content/DE-MRI_Classificacio_CNN/dataset/entrenament/patologic/Case_P073.nii.\n",
            "S'han generat 9 imatges 2D en talls per /content/DE-MRI_Classificacio_CNN/dataset/entrenament/patologic/Case_P098.nii.\n",
            "S'han generat 6 imatges 2D en talls per /content/DE-MRI_Classificacio_CNN/dataset/entrenament/patologic/Case_P092.nii.\n",
            "S'han generat 6 imatges 2D en talls per /content/DE-MRI_Classificacio_CNN/dataset/entrenament/patologic/Case_P097.nii.\n",
            "S'han generat 6 imatges 2D en talls per /content/DE-MRI_Classificacio_CNN/dataset/entrenament/patologic/Case_P087.nii.\n",
            "S'han generat 5 imatges 2D en talls per /content/DE-MRI_Classificacio_CNN/dataset/entrenament/patologic/Case_P085.nii.\n",
            "S'han generat 7 imatges 2D en talls per /content/DE-MRI_Classificacio_CNN/dataset/entrenament/patologic/Case_P021.nii.\n",
            "S'han generat 10 imatges 2D en talls per /content/DE-MRI_Classificacio_CNN/dataset/entrenament/patologic/Case_P047.nii.\n",
            "S'han generat 8 imatges 2D en talls per /content/DE-MRI_Classificacio_CNN/dataset/entrenament/patologic/Case_P086.nii.\n",
            "S'han generat 6 imatges 2D en talls per /content/DE-MRI_Classificacio_CNN/dataset/entrenament/patologic/Case_P031.nii.\n",
            "S'han generat 6 imatges 2D en talls per /content/DE-MRI_Classificacio_CNN/dataset/entrenament/patologic/Case_P066.nii.\n",
            "S'han generat 6 imatges 2D en talls per /content/DE-MRI_Classificacio_CNN/dataset/entrenament/patologic/Case_P081.nii.\n",
            "S'han generat 6 imatges 2D en talls per /content/DE-MRI_Classificacio_CNN/dataset/entrenament/patologic/Case_P077.nii.\n",
            "S'han generat 8 imatges 2D en talls per /content/DE-MRI_Classificacio_CNN/dataset/entrenament/patologic/Case_P061.nii.\n",
            "S'han generat 7 imatges 2D en talls per /content/DE-MRI_Classificacio_CNN/dataset/entrenament/patologic/Case_P093.nii.\n",
            "S'han generat 7 imatges 2D en talls per /content/DE-MRI_Classificacio_CNN/dataset/entrenament/patologic/Case_P080.nii.\n",
            "S'han generat 6 imatges 2D en talls per /content/DE-MRI_Classificacio_CNN/dataset/entrenament/patologic/Case_P063.nii.\n",
            "S'han generat 5 imatges 2D en talls per /content/DE-MRI_Classificacio_CNN/dataset/entrenament/patologic/Case_P044.nii.\n",
            "S'han generat 6 imatges 2D en talls per /content/DE-MRI_Classificacio_CNN/dataset/entrenament/patologic/Case_P074.nii.\n",
            "S'han generat 7 imatges 2D en talls per /content/DE-MRI_Classificacio_CNN/dataset/entrenament/patologic/Case_P036.nii.\n",
            "S'han generat 8 imatges 2D en talls per /content/DE-MRI_Classificacio_CNN/dataset/entrenament/patologic/Case_P082.nii.\n",
            "S'han generat 7 imatges 2D en talls per /content/DE-MRI_Classificacio_CNN/dataset/entrenament/patologic/Case_P062.nii.\n",
            "S'han generat 7 imatges 2D en talls per /content/DE-MRI_Classificacio_CNN/dataset/entrenament/patologic/Case_P017.nii.\n",
            "S'han generat 8 imatges 2D en talls per /content/DE-MRI_Classificacio_CNN/dataset/entrenament/patologic/Case_P003.nii.\n",
            "S'han generat 5 imatges 2D en talls per /content/DE-MRI_Classificacio_CNN/dataset/entrenament/patologic/Case_P056.nii.\n",
            "S'han generat 7 imatges 2D en talls per /content/DE-MRI_Classificacio_CNN/dataset/entrenament/patologic/Case_P035.nii.\n",
            "S'han generat 9 imatges 2D en talls per /content/DE-MRI_Classificacio_CNN/dataset/entrenament/patologic/Case_P015.nii.\n",
            "S'han generat 5 imatges 2D en talls per /content/DE-MRI_Classificacio_CNN/dataset/entrenament/patologic/Case_P095.nii.\n",
            "S'han generat 6 imatges 2D en talls per /content/DE-MRI_Classificacio_CNN/dataset/entrenament/patologic/Case_P050.nii.\n",
            "S'han generat 7 imatges 2D en talls per /content/DE-MRI_Classificacio_CNN/dataset/entrenament/patologic/Case_P022.nii.\n",
            "S'han generat 7 imatges 2D en talls per /content/DE-MRI_Classificacio_CNN/dataset/entrenament/patologic/Case_P005.nii.\n",
            "S'han generat 9 imatges 2D en talls per /content/DE-MRI_Classificacio_CNN/dataset/entrenament/patologic/Case_P072.nii.\n",
            "S'han generat 7 imatges 2D en talls per /content/DE-MRI_Classificacio_CNN/dataset/entrenament/patologic/Case_P026.nii.\n",
            "S'han generat 7 imatges 2D en talls per /content/DE-MRI_Classificacio_CNN/dataset/entrenament/patologic/Case_P011.nii.\n",
            "S'han generat 5 imatges 2D en talls per /content/DE-MRI_Classificacio_CNN/dataset/entrenament/patologic/Case_P064.nii.\n",
            "S'han generat 8 imatges 2D en talls per /content/DE-MRI_Classificacio_CNN/dataset/entrenament/patologic/Case_P060.nii.\n",
            "S'han generat 9 imatges 2D en talls per /content/DE-MRI_Classificacio_CNN/dataset/entrenament/patologic/Case_P099.nii.\n",
            "S'han generat 6 imatges 2D en talls per /content/DE-MRI_Classificacio_CNN/dataset/entrenament/patologic/Case_P067.nii.\n",
            "S'han generat 5 imatges 2D en talls per /content/DE-MRI_Classificacio_CNN/dataset/entrenament/patologic/Case_P069.nii.\n",
            "S'han generat 6 imatges 2D en talls per /content/DE-MRI_Classificacio_CNN/dataset/entrenament/patologic/Case_P055.nii.\n",
            "S'han generat 8 imatges 2D en talls per /content/DE-MRI_Classificacio_CNN/dataset/entrenament/patologic/Case_P038.nii.\n",
            "S'han generat 5 imatges 2D en talls per /content/DE-MRI_Classificacio_CNN/dataset/entrenament/patologic/Case_P045.nii.\n",
            "S'han generat 7 imatges 2D en talls per /content/DE-MRI_Classificacio_CNN/dataset/entrenament/patologic/Case_P007.nii.\n",
            "S'han generat 10 imatges 2D en talls per /content/DE-MRI_Classificacio_CNN/dataset/entrenament/patologic/Case_P053.nii.\n"
          ]
        }
      ],
      "source": [
        "#CONVERTIR IMATGES 3D A 2D\n",
        "def convertir_imatge_3D_a_2D(nom_arxiu, carpeta_sortida):\n",
        "    # Carregar l'arxiu NIfTI\n",
        "    imatge_nifti = nib.load(nom_arxiu)\n",
        "    dades = imatge_nifti.get_fdata()\n",
        "\n",
        "    # Obtenir les dimensions de la imatge\n",
        "    shape = dades.shape\n",
        "\n",
        "    # Crear la carpeta de sortida per la imatge si no existeix\n",
        "    if not os.path.exists(carpeta_sortida):\n",
        "        os.makedirs(carpeta_sortida)\n",
        "\n",
        "    # Realitzar els talls i guardar les imatges 2D resultants\n",
        "    for i in range(shape[2]):\n",
        "        # Obtenir el tall en l'índex corresponent\n",
        "        tall = dades[:, :, i]\n",
        "\n",
        "        # Crear una figura i mostrar el tall\n",
        "        fig = plt.figure()\n",
        "        plt.imshow(tall, cmap='gray')\n",
        "        plt.axis('off')\n",
        "\n",
        "        # Guardar la imatge en la carpeta de sortida\n",
        "        nom_sortida = os.path.join(carpeta_sortida, f'tall_{i}.png')\n",
        "        plt.savefig(nom_sortida)\n",
        "        plt.close(fig)\n",
        "\n",
        "    print(f\"S'han generat {shape[2]} imatges 2D en talls per {nom_arxiu}.\")\n",
        "\n",
        "# Carpeta d'entrada per imatges normals\n",
        "carpeta_entrada_normal = os.path.join(data_path, \"entrenament\", \"normal\")\n",
        "\n",
        "# Carpeta d'entrada per imatges patològiques\n",
        "carpeta_entrada_patologic = os.path.join(data_path, \"entrenament\", \"patologic\")\n",
        "\n",
        "# Carpeta de sortida per les imatges 2D convertides (normals)\n",
        "carpeta_sortida_normal = os.path.join(data_path, \"corr_entrenament\", \"corr_normal\")\n",
        "\n",
        "# Carpeta de sortida per les imatges 2D convertides (patològiques)\n",
        "carpeta_sortida_patologic = os.path.join(data_path, \"corr_entrenament\", \"corr_patologic\")\n",
        "\n",
        "# Processar imatges normals\n",
        "arxius_normal = os.listdir(carpeta_entrada_normal)\n",
        "for arxiu in arxius_normal:\n",
        "    if arxiu.endswith('.nii.gz') or arxiu.endswith('.nii'):\n",
        "        ruta_arxiu = os.path.join(carpeta_entrada_normal, arxiu)\n",
        "        carpeta_sortida_imatge = os.path.join(carpeta_sortida_normal, os.path.splitext(arxiu)[0])\n",
        "        convertir_imatge_3D_a_2D(ruta_arxiu, carpeta_sortida_imatge)\n",
        "\n",
        "# Processar imatges patològiques\n",
        "arxius_patologic = os.listdir(carpeta_entrada_patologic)\n",
        "for arxiu in arxius_patologic:\n",
        "    if arxiu.endswith('.nii.gz') or arxiu.endswith('.nii'):\n",
        "        ruta_arxiu = os.path.join(carpeta_entrada_patologic, arxiu)\n",
        "        carpeta_sortida_imatge = os.path.join(carpeta_sortida_patologic, os.path.splitext(arxiu)[0])\n",
        "        convertir_imatge_3D_a_2D(ruta_arxiu, carpeta_sortida_imatge)"
      ]
    },
    {
      "cell_type": "code",
      "source": [
        "#CNN IMATGES .PNG\n",
        "\n",
        "# Ruta de la carpeta principal\n",
        "ruta_carpeta_normal = '/content/DE-MRI_Classificacio_CNN/dataset/corr_entrenament/corr_normal'\n",
        "ruta_carpeta_patologic = '/content/DE-MRI_Classificacio_CNN/dataset/corr_entrenament/corr_patologic'\n",
        "\n",
        "\n",
        "# Funció per recollir les imatges i les etiquetes\n",
        "def recollir_imatges_etiquetes(ruta_carpeta, etiqueta):\n",
        "    casos = [nom_carpeta for nom_carpeta in os.listdir(ruta_carpeta) if os.path.isdir(os.path.join(ruta_carpeta, nom_carpeta))]\n",
        "\n",
        "    imatges = []\n",
        "    etiquetes = []\n",
        "\n",
        "    for cas in casos:\n",
        "        ruta_cas = os.path.join(ruta_carpeta, cas)\n",
        "        rutes_imatges = glob(os.path.join(ruta_cas, '*.png'))\n",
        "\n",
        "        for ruta_imatge in rutes_imatges:\n",
        "            imatge = cv2.imread(ruta_imatge)\n",
        "            imatge = cv2.cvtColor(imatge, cv2.COLOR_BGR2RGB)\n",
        "            imatge = imatge.astype('float16') / 255.0  # Convertir a float16 y normalizar entre 0 y 1\n",
        "            imatges.append(imatge)\n",
        "            etiquetes.append(etiqueta)\n",
        "\n",
        "    return imatges, etiquetes\n",
        "\n",
        "# Recollir imatges i etiquetes de la carpeta corr_normal\n",
        "imatges_normal, etiquetes_normal = recollir_imatges_etiquetes(ruta_carpeta_normal, \"normal\")\n",
        "\n",
        "# Recollir imatges i etiquetes de la carpeta corr_patologic\n",
        "imatges_patologic, etiquetes_patologic = recollir_imatges_etiquetes(ruta_carpeta_patologic, \"patologic\")\n",
        "\n",
        "# Concatenar les llistes de imatges i etiquetes\n",
        "imatges_total = imatges_normal + imatges_patologic\n",
        "etiquetes_total = etiquetes_normal + etiquetes_patologic\n",
        "\n",
        "# Convertir la llista de imatges i etiquetes en una matriu numpy\n",
        "matriu_imatges = np.array(imatges_total, dtype='float16')\n",
        "etiquetes = np.array(etiquetes_total)\n",
        "\n",
        "print(f\"S'han recollit {matriu_imatges.shape[0]} imatges en total.\")\n",
        "\n",
        "\n",
        "# Obtenir la quantitat de imatges etiquetades com \"normal\"\n",
        "quantitat_normal = np.count_nonzero(etiquetes == \"normal\")\n",
        "\n",
        "# Obtenir la quntitat de imatges etiquetades com \"patologic\"\n",
        "quantitat_patologic = np.count_nonzero(etiquetes == \"patologic\")\n",
        "\n",
        "print(f\"S'han trobat {quantitat_normal} imatges etiquetades com 'normal'.\")\n",
        "print(f\"S'han trobat {quantitat_patologic} imatges etiquetades com 'patologic'.\")"
      ],
      "metadata": {
        "id": "2bPw50RK6KSo",
        "colab": {
          "base_uri": "https://localhost:8080/"
        },
        "outputId": "e7f00e31-6726-45c6-a862-f5b36ea7e7e3"
      },
      "execution_count": 56,
      "outputs": [
        {
          "output_type": "stream",
          "name": "stdout",
          "text": [
            "S'han recollit 699 imatges en total.\n",
            "S'han trobat 226 imatges etiquetades com 'normal'.\n",
            "S'han trobat 473 imatges etiquetades com 'patologic'.\n"
          ]
        }
      ]
    },
    {
      "cell_type": "code",
      "source": [
        "# Preprocessat de les imatges\n",
        "# Normalitzar els valors de píxels al rang [0, 1]\n",
        "imatges = matriu_imatges/ 255.0\n",
        "\n",
        "# Dividir les dades en conjunts d'entrenament i prova\n",
        "X_train, X_test, y_train, y_test = train_test_split(imatges, etiquetes, test_size=0.2, random_state=42)\n",
        "\n",
        "\n",
        "\n",
        "# Initialize LabelEncoder\n",
        "label_encoder = LabelEncoder()\n",
        "\n",
        "# Fit and transform labels\n",
        "y_train_encoded = label_encoder.fit_transform(y_train)\n",
        "y_test_encoded = label_encoder.transform(y_test)\n",
        "\n",
        "# Convert encoded labels to one-hot encoding\n",
        "y_train = tf.one_hot(y_train_encoded, depth=2)\n",
        "y_test = tf.one_hot(y_test_encoded, depth=2)\n",
        "\n",
        "\n",
        "\n",
        "# Construir el model de la CNN\n",
        "model = tf.keras.Sequential([\n",
        "    tf.keras.layers.Conv2D(32, (3, 3), activation='relu', input_shape=X_train[0].shape),\n",
        "    tf.keras.layers.MaxPooling2D((2, 2)),\n",
        "    tf.keras.layers.Conv2D(64, (3, 3), activation='relu'),\n",
        "    tf.keras.layers.MaxPooling2D((2, 2)),\n",
        "    tf.keras.layers.Flatten(),\n",
        "    tf.keras.layers.Dense(64, activation='relu'),\n",
        "    tf.keras.layers.Dense(2, activation='softmax')\n",
        "])\n",
        "\n",
        "# Compilar el model\n",
        "model.compile(optimizer='adam',\n",
        "               loss='categorical_crossentropy',\n",
        "               metrics=['accuracy'])\n",
        "\n",
        "# Crear generadores de datos para el entrenamiento y la prueba\n",
        "generador_entrenamiento = tf.keras.preprocessing.image.ImageDataGenerator(rescale=1./255, validation_split=0.3, dtype='float16')\n",
        "generador_prueba = tf.keras.preprocessing.image.ImageDataGenerator(rescale=1./255, validation_split=0.3, dtype='float16')\n",
        "\n",
        "# Crear generadores de flujo de datos para el entrenamiento y la prueba\n",
        "flujo_entrenamiento = generador_entrenamiento.flow(X_train, y_train, batch_size=8)\n",
        "flujo_prueba = generador_prueba.flow(X_test, y_test, batch_size=8)\n",
        "\n",
        "\n",
        "\n",
        "# Entrenar el model\n",
        "model.fit(X_train, y_train, epochs=10, batch_size=8, validation_data=(X_test, y_test))\n",
        "\n",
        "# Avaluar el model en el conjunt de prova\n",
        "loss, accuracy = model.evaluate(X_test, y_test)\n",
        "print(f\"Perdua en el conjunt de prova: {loss}\")\n",
        "print(f\"Precisió en el conjunt de prova: {accuracy}\")"
      ],
      "metadata": {
        "id": "I12K55NaHDb9",
        "colab": {
          "base_uri": "https://localhost:8080/"
        },
        "outputId": "f0acc904-32c2-44b8-f57b-9847feed340e"
      },
      "execution_count": null,
      "outputs": [
        {
          "output_type": "stream",
          "name": "stdout",
          "text": [
            "Epoch 1/10\n",
            "70/70 [==============================] - ETA: 0s - loss: 0.6559 - accuracy: 0.6816"
          ]
        }
      ]
    }
  ]
}