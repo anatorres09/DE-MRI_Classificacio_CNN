{
  "nbformat": 4,
  "nbformat_minor": 0,
  "metadata": {
    "colab": {
      "provenance": [],
      "gpuType": "T4",
      "authorship_tag": "ABX9TyNXxxnw4/DNWgaIcWHvVRXi",
      "include_colab_link": true
    },
    "kernelspec": {
      "name": "python3",
      "display_name": "Python 3"
    },
    "language_info": {
      "name": "python"
    },
    "accelerator": "GPU",
    "gpuClass": "standard"
  },
  "cells": [
    {
      "cell_type": "markdown",
      "metadata": {
        "id": "view-in-github",
        "colab_type": "text"
      },
      "source": [
        "<a href=\"https://colab.research.google.com/github/anatorres09/DE-MRI_Classificacio_CNN/blob/main/entrenament_CNN.ipynb\" target=\"_parent\"><img src=\"https://colab.research.google.com/assets/colab-badge.svg\" alt=\"Open In Colab\"/></a>"
      ]
    },
    {
      "cell_type": "code",
      "source": [
        "# Connectar a Drive\n",
        "from google.colab import drive\n",
        "drive.mount('/content/drive')"
      ],
      "metadata": {
        "colab": {
          "base_uri": "https://localhost:8080/"
        },
        "id": "KIkP_r4_hCNF",
        "outputId": "dc12331b-1f5c-4f84-bc35-4e3c0823af45"
      },
      "execution_count": 1,
      "outputs": [
        {
          "output_type": "stream",
          "name": "stdout",
          "text": [
            "Mounted at /content/drive\n"
          ]
        }
      ]
    },
    {
      "cell_type": "code",
      "source": [
        "#Importar llibreries\n",
        "import os\n",
        "from glob import glob\n",
        "import cv2\n",
        "import nibabel as nib\n",
        "import numpy as np\n",
        "from tensorflow.keras.preprocessing.image import ImageDataGenerator\n",
        "from tensorflow.keras.models import Sequential\n",
        "from tensorflow.keras.layers import Conv2D, MaxPooling2D, Flatten, Dense\n",
        "import gc\n",
        "import tensorflow as tf\n",
        "from sklearn.model_selection import train_test_split\n",
        "from sklearn.preprocessing import LabelEncoder\n",
        "from keras.utils import to_categorical\n",
        "from sklearn.metrics import classification_report, confusion_matrix, accuracy_score, precision_score, recall_score, f1_score\n",
        "from joblib import Parallel, delayed"
      ],
      "metadata": {
        "id": "hB1qkfA2hFrV"
      },
      "execution_count": 6,
      "outputs": []
    },
    {
      "cell_type": "code",
      "source": [
        "drive_folder = '/content/drive/MyDrive/CNN'"
      ],
      "metadata": {
        "id": "zLyQ52AOhGa2"
      },
      "execution_count": 7,
      "outputs": []
    },
    {
      "cell_type": "code",
      "source": [
        "#CNN IMATGES .PNG\n",
        "\n",
        "# Ruta de la carpeta principal\n",
        "ruta_carpeta_normal = os.path.join(drive_folder, \"corr_entrenament\", \"corr_normal\")\n",
        "ruta_carpeta_patologic = os.path.join(drive_folder, \"corr_entrenament\", \"corr_patologic\")\n",
        "# Estrategia 1: Redimensionar las imágenes a un tamaño fijo\n",
        "resize_shape = (128, 128)\n",
        "\n",
        "# Recoger imágenes y etiquetas de la carpeta corr_normal\n",
        "def recoger_imagenes_etiquetas(ruta_carpeta, etiqueta, resize_shape):\n",
        "    casos = [nom_carpeta for nom_carpeta in os.listdir(ruta_carpeta) if os.path.isdir(os.path.join(ruta_carpeta, nom_carpeta))]\n",
        "\n",
        "    imatges = []\n",
        "    etiquetes = []\n",
        "\n",
        "    for cas in casos:\n",
        "        ruta_cas = os.path.join(ruta_carpeta, cas)\n",
        "        rutes_imatges = glob(os.path.join(ruta_cas, '*.png'))\n",
        "\n",
        "        for ruta_imatge in rutes_imatges:\n",
        "            imatge = cv2.imread(ruta_imatge)\n",
        "            imatge = cv2.cvtColor(imatge, cv2.COLOR_BGR2RGB)\n",
        "            \n",
        "            # Aplicar la estrategia 1: Redimensionar las imágenes\n",
        "            imatge = cv2.resize(imatge, resize_shape)\n",
        "            \n",
        "            imatge = imatge.astype('float32') / 255.0  # Convertir a float32 y normalizar entre 0 y 1\n",
        "            imatges.append(imatge)\n",
        "            etiquetes.append(etiqueta)\n",
        "\n",
        "    return imatges, etiquetes\n",
        "\n",
        "\n",
        "\n",
        "# Recollir imatges i etiquetes de la carpeta corr_normal\n",
        "imatges_normal, etiquetes_normal = recollir_imatges_etiquetes(ruta_carpeta_normal, \"normal\", resize_shape)\n",
        "\n",
        "# Recollir imatges i etiquetes de la carpeta corr_patologic\n",
        "imatges_patologic, etiquetes_patologic = recollir_imatges_etiquetes(ruta_carpeta_patologic, \"patologic\", resize_shape)\n",
        "\n",
        "# Concatenar les llistes de imatges i etiquetes\n",
        "imatges_total = imatges_normal + imatges_patologic\n",
        "etiquetes_total = etiquetes_normal + etiquetes_patologic\n",
        "\n",
        "# Convertir la lista de imágenes y etiquetas en una matriz numpy\n",
        "matriu_imatges = np.array(imatges_total, dtype='float32')\n",
        "etiquetes = np.array(etiquetes_total)\n",
        "\n",
        "print(f\"S'han recollit {matriu_imatges.shape[0]} imatges en total.\")\n",
        "\n",
        "\n",
        "# Obtenir la quantitat de imatges etiquetades com \"normal\"\n",
        "quantitat_normal = np.count_nonzero(etiquetes == \"normal\")\n",
        "\n",
        "# Obtenir la quntitat de imatges etiquetades com \"patologic\"\n",
        "quantitat_patologic = np.count_nonzero(etiquetes == \"patologic\")\n",
        "\n",
        "print(f\"S'han trobat {quantitat_normal} imatges etiquetades com 'normal'.\")\n",
        "print(f\"S'han trobat {quantitat_patologic} imatges etiquetades com 'patologic'.\")"
      ],
      "metadata": {
        "id": "6st4DqdFg08Q",
        "colab": {
          "base_uri": "https://localhost:8080/"
        },
        "outputId": "e4c0f863-e821-4c4a-ef60-c821b09aab7b"
      },
      "execution_count": 11,
      "outputs": [
        {
          "output_type": "stream",
          "name": "stdout",
          "text": [
            "S'han recollit 699 imatges en total.\n",
            "S'han trobat 226 imatges etiquetades com 'normal'.\n",
            "S'han trobat 473 imatges etiquetades com 'patologic'.\n"
          ]
        }
      ]
    },
    {
      "cell_type": "code",
      "source": [
        "\n",
        "# Preprocessat de les imatges\n",
        "# Normalitzar els valors de píxels al rang [0, 1]\n",
        "imatges = matriu_imatges/ 255.0\n",
        "\n",
        "# Dividir les dades en conjunts d'entrenament i prova\n",
        "X_train, X_test, y_train, y_test = train_test_split(imatges, etiquetes, test_size=0.2, random_state=42)\n",
        "\n",
        "\n",
        "\n",
        "# Initialize LabelEncoder\n",
        "label_encoder = LabelEncoder()\n",
        "\n",
        "# Fit and transform labels\n",
        "y_train_encoded = label_encoder.fit_transform(y_train)\n",
        "y_test_encoded = label_encoder.transform(y_test)\n",
        "\n",
        "# Convert encoded labels to one-hot encoding\n",
        "y_train = tf.one_hot(y_train_encoded, depth=2)\n",
        "y_test = tf.one_hot(y_test_encoded, depth=2)\n",
        "\n",
        "# Construir el model de la CNN\n",
        "model = tf.keras.Sequential([\n",
        "    tf.keras.layers.Conv2D(32, (3, 3), activation='relu', input_shape=X_train[0].shape),\n",
        "    tf.keras.layers.MaxPooling2D((2, 2)),\n",
        "    tf.keras.layers.Conv2D(64, (3, 3), activation='relu'),\n",
        "    tf.keras.layers.MaxPooling2D((2, 2)),\n",
        "    tf.keras.layers.Flatten(),\n",
        "    tf.keras.layers.Dense(64, activation='relu'),\n",
        "    tf.keras.layers.Dense(2, activation='softmax')\n",
        "])\n",
        "\n",
        "# Compilar el model\n",
        "model.compile(optimizer='adam',\n",
        "               loss='categorical_crossentropy',\n",
        "               metrics=['accuracy'])\n",
        "\n",
        "# Crear generadores de datos para el entrenamiento y la prueba\n",
        "generador_entrenamiento = tf.keras.preprocessing.image.ImageDataGenerator(rescale=1./255, validation_split=0.3, dtype='float16')\n",
        "generador_prueba = tf.keras.preprocessing.image.ImageDataGenerator(rescale=1./255, validation_split=0.3, dtype='float16')\n",
        "\n",
        "# Crear generadores de flujo de datos para el entrenamiento y la prueba\n",
        "flujo_entrenamiento = generador_entrenamiento.flow(X_train, y_train, batch_size=32)\n",
        "flujo_prueba = generador_prueba.flow(X_test, y_test, batch_size=32)\n",
        "\n",
        "\n",
        "# Antes de entrenar el modelo\n",
        "gc.collect()  # Liberar la memoria antes del entrenamiento\n",
        "\n",
        "# Entrenar el modelo utilizando generadores de datos\n",
        "history = model.fit(X_train, y_train, epochs=10, batch_size=32, validation_data=(X_test, y_test))\n",
        "\n",
        "\n",
        "#Ruta del archivo donde se guardará el modelo\n",
        "ruta_model = os.path.join(drive_folder, \"model_CNN.h5\")\n",
        "\n",
        "# Guardar el modelo\n",
        "model.save(ruta_model)\n",
        "print(\"Model de la CNN guardat correctament.\")\n",
        "\n",
        "# Evaluar el modelo en el conjunto de prueba utilizando generador de datos\n",
        "loss, accuracy = model.evaluate(X_test, y_test)\n",
        "print(f\"Perdua en el conjunt de prova: {loss}\")\n",
        "print(f\"Precisió en el conjunt de prova: {accuracy}\")\n",
        "\n",
        "# Obtener las predicciones del conjunto de prueba\n",
        "y_pred = model.predict(X_test)\n",
        "\n",
        "# Convertir las predicciones en etiquetas codificadas\n",
        "y_pred_encoded = np.argmax(y_pred, axis=1)\n",
        "y_test_encoded = np.argmax(y_test, axis=1)\n",
        "\n",
        "# Calcular y mostrar la matriz de confusión\n",
        "confusion_mat = confusion_matrix(y_test_encoded, y_pred_encoded)\n",
        "print(\"Matriz de confusión:\")\n",
        "print(confusion_mat)\n",
        "\n",
        "# Calcular y mostrar el informe de clasificación\n",
        "classification_rep = classification_report(y_test_encoded, y_pred_encoded)\n",
        "print(\"Informe de clasificación:\")\n",
        "print(classification_rep)\n",
        "\n",
        "# Calcular y mostrar la precisión\n",
        "precision = precision_score(y_test_encoded, y_pred_encoded)\n",
        "print(f\"Precisión: {precision}\")\n",
        "\n",
        "# Calcular y mostrar el recall\n",
        "recall = recall_score(y_test_encoded, y_pred_encoded)\n",
        "print(f\"Recall: {recall}\")\n",
        "\n",
        "# Calcular y mostrar el F1-score\n",
        "f1 = f1_score(y_test_encoded, y_pred_encoded)\n",
        "print(f\"F1-score: {f1}\")\n",
        "\n",
        "# Calcular y mostrar la exactitud (accuracy)\n",
        "accuracy = accuracy_score(y_test_encoded, y_pred_encoded)\n",
        "print(f\"Exactitud: {accuracy}\")\n",
        "\n",
        "# Liberar la memoria después de evaluar el modelo\n",
        "del X_train, y_train, X_test, y_test\n",
        "gc.collect()  # Liberar la memoria utilizada por las variables eliminadas"
      ],
      "metadata": {
        "id": "vSZP4jZNg2Ai",
        "colab": {
          "base_uri": "https://localhost:8080/"
        },
        "outputId": "3dda25cc-ec12-4242-eff1-576d0781abc4"
      },
      "execution_count": 12,
      "outputs": [
        {
          "output_type": "stream",
          "name": "stdout",
          "text": [
            "Epoch 1/10\n",
            "18/18 [==============================] - 2s 31ms/step - loss: 0.6316 - accuracy: 0.6619 - val_loss: 0.6655 - val_accuracy: 0.6143\n",
            "Epoch 2/10\n",
            "18/18 [==============================] - 0s 20ms/step - loss: 0.6243 - accuracy: 0.6923 - val_loss: 0.6860 - val_accuracy: 0.6143\n",
            "Epoch 3/10\n",
            "18/18 [==============================] - 0s 19ms/step - loss: 0.6118 - accuracy: 0.6923 - val_loss: 0.6620 - val_accuracy: 0.6143\n",
            "Epoch 4/10\n",
            "18/18 [==============================] - 0s 19ms/step - loss: 0.6031 - accuracy: 0.6923 - val_loss: 0.6331 - val_accuracy: 0.6143\n",
            "Epoch 5/10\n",
            "18/18 [==============================] - 0s 17ms/step - loss: 0.5682 - accuracy: 0.6923 - val_loss: 0.5996 - val_accuracy: 0.6143\n",
            "Epoch 6/10\n",
            "18/18 [==============================] - 0s 17ms/step - loss: 0.5455 - accuracy: 0.6923 - val_loss: 0.5503 - val_accuracy: 0.6143\n",
            "Epoch 7/10\n",
            "18/18 [==============================] - 0s 17ms/step - loss: 0.5266 - accuracy: 0.7084 - val_loss: 0.5543 - val_accuracy: 0.6929\n",
            "Epoch 8/10\n",
            "18/18 [==============================] - 0s 18ms/step - loss: 0.5120 - accuracy: 0.7460 - val_loss: 0.5257 - val_accuracy: 0.8143\n",
            "Epoch 9/10\n",
            "18/18 [==============================] - 0s 17ms/step - loss: 0.5084 - accuracy: 0.7478 - val_loss: 0.5493 - val_accuracy: 0.7000\n",
            "Epoch 10/10\n",
            "18/18 [==============================] - 0s 17ms/step - loss: 0.5138 - accuracy: 0.7209 - val_loss: 0.5176 - val_accuracy: 0.8214\n",
            "Model de la CNN guardat correctament.\n",
            "5/5 [==============================] - 0s 7ms/step - loss: 0.5176 - accuracy: 0.8214\n",
            "Perdua en el conjunt de prova: 0.5175769329071045\n",
            "Precisió en el conjunt de prova: 0.8214285969734192\n",
            "5/5 [==============================] - 0s 5ms/step\n",
            "Matriz de confusión:\n",
            "[[34 20]\n",
            " [ 5 81]]\n",
            "Informe de clasificación:\n",
            "              precision    recall  f1-score   support\n",
            "\n",
            "           0       0.87      0.63      0.73        54\n",
            "           1       0.80      0.94      0.87        86\n",
            "\n",
            "    accuracy                           0.82       140\n",
            "   macro avg       0.84      0.79      0.80       140\n",
            "weighted avg       0.83      0.82      0.81       140\n",
            "\n",
            "Precisión: 0.801980198019802\n",
            "Recall: 0.9418604651162791\n",
            "F1-score: 0.8663101604278075\n",
            "Exactitud: 0.8214285714285714\n"
          ]
        },
        {
          "output_type": "execute_result",
          "data": {
            "text/plain": [
              "4067"
            ]
          },
          "metadata": {},
          "execution_count": 12
        }
      ]
    }
  ]
}