{
  "nbformat": 4,
  "nbformat_minor": 0,
  "metadata": {
    "colab": {
      "provenance": [],
      "toc_visible": true,
      "authorship_tag": "ABX9TyM+MGalS9OCf1W58xccCbcf",
      "include_colab_link": true
    },
    "kernelspec": {
      "name": "python3",
      "display_name": "Python 3"
    },
    "language_info": {
      "name": "python"
    }
  },
  "cells": [
    {
      "cell_type": "markdown",
      "metadata": {
        "id": "view-in-github",
        "colab_type": "text"
      },
      "source": [
        "<a href=\"https://colab.research.google.com/github/anatorres09/DE-MRI_Classificacio_CNN/blob/main/Corr_Imatges.ipynb\" target=\"_parent\"><img src=\"https://colab.research.google.com/assets/colab-badge.svg\" alt=\"Open In Colab\"/></a>"
      ]
    },
    {
      "cell_type": "code",
      "execution_count": 7,
      "metadata": {
        "colab": {
          "base_uri": "https://localhost:8080/",
          "height": 235
        },
        "id": "eKxmfPGC0GZG",
        "outputId": "4902ae81-50d4-434d-cd8b-a7d644511405"
      },
      "outputs": [
        {
          "output_type": "error",
          "ename": "FileNotFoundError",
          "evalue": "ignored",
          "traceback": [
            "\u001b[0;31m---------------------------------------------------------------------------\u001b[0m",
            "\u001b[0;31mFileNotFoundError\u001b[0m                         Traceback (most recent call last)",
            "\u001b[0;32m<ipython-input-7-37ee4fff57d3>\u001b[0m in \u001b[0;36m<cell line: 44>\u001b[0;34m()\u001b[0m\n\u001b[1;32m     42\u001b[0m \u001b[0;34m\u001b[0m\u001b[0m\n\u001b[1;32m     43\u001b[0m \u001b[0;31m# Obtener la lista de archivos en la carpeta de entrada\u001b[0m\u001b[0;34m\u001b[0m\u001b[0;34m\u001b[0m\u001b[0m\n\u001b[0;32m---> 44\u001b[0;31m \u001b[0marchivos\u001b[0m \u001b[0;34m=\u001b[0m \u001b[0mos\u001b[0m\u001b[0;34m.\u001b[0m\u001b[0mlistdir\u001b[0m\u001b[0;34m(\u001b[0m\u001b[0mcarpeta_entrada\u001b[0m\u001b[0;34m)\u001b[0m\u001b[0;34m\u001b[0m\u001b[0;34m\u001b[0m\u001b[0m\n\u001b[0m\u001b[1;32m     45\u001b[0m \u001b[0;34m\u001b[0m\u001b[0m\n\u001b[1;32m     46\u001b[0m \u001b[0;31m# Procesar cada archivo en la carpeta de entrada\u001b[0m\u001b[0;34m\u001b[0m\u001b[0;34m\u001b[0m\u001b[0m\n",
            "\u001b[0;31mFileNotFoundError\u001b[0m: [Errno 2] No such file or directory: 'https://1drv.ms/f/s!AqnLtp2_kCLKhcdmZSp6nSxuljRhPg?e=owBjw9'"
          ]
        }
      ],
      "source": [
        "%tensorflow_version 2.x\n",
        "# Clonar el repositori del GitHUb que conté les imatges\n",
        "!git clone https://github.com/anatorres09/DE-MRI_Classificacio_CNN.git\n",
        "! ls\n",
        "\n",
        "\n",
        "\n",
        "#Importar llibreries\n",
        "import os\n",
        "import nibabel as nib\n",
        "import numpy as np\n",
        "import matplotlib.pyplot as plt\n",
        "\n",
        "import tensorflow as tf\n",
        "from sklearn.model_selection import train_test_split\n",
        "from tensorflow.keras.layers import Conv3D, MaxPooling3D, Flatten, Dense\n",
        "from tensorflow.keras.models import Sequential\n",
        "from sklearn.metrics import confusion_matrix, classification_report\n",
        "\n",
        "from mpl_toolkits.axes_grid1 import ImageGrid\n",
        "from matplotlib.gridspec import GridSpec\n",
        "\n",
        "from skimage.filters import median, rank\n",
        "from skimage.exposure import equalize_adapthist\n",
        "\n",
        "from scipy import ndimage\n",
        "from tensorflow import keras\n",
        "from tensorflow.keras import layers\n",
        "import nibabel as nib\n",
        "import os\n",
        "import urllib.request\n",
        "\n",
        "\n",
        "#CONVERTIR IMATGES 3D A 2D\n",
        "def convertir_imagen_3D_a_2D(nombre_archivo, carpeta_salida):\n",
        "    # Cargar el archivo NIfTI\n",
        "    imagen_nifti = nib.load(nombre_archivo)\n",
        "    datos = imagen_nifti.get_fdata()\n",
        "\n",
        "    # Obtener las dimensiones de la imagen\n",
        "    shape = datos.shape\n",
        "\n",
        "    # Crear la carpeta de salida para la imagen si no existe\n",
        "    if not os.path.exists(carpeta_salida):\n",
        "        os.makedirs(carpeta_salida)\n",
        "\n",
        "    # Realizar los cortes y guardar las imágenes 2D resultantes\n",
        "    for i in range(shape[2]):\n",
        "        # Obtener el corte en el índice correspondiente\n",
        "        corte = datos[:, :, i]\n",
        "\n",
        "        # Crear una figura y mostrar el corte\n",
        "        fig = plt.figure()\n",
        "        plt.imshow(corte, cmap='gray')\n",
        "        plt.axis('off')\n",
        "\n",
        "        # Guardar la imagen en la carpeta de salida\n",
        "        nombre_salida = os.path.join(carpeta_salida, f'corte_{i}.png')\n",
        "        plt.savefig(nombre_salida)\n",
        "        plt.close(fig)\n",
        "\n",
        "    print(f'Se generaron {shape[2]} imágenes 2D en cortes para {nombre_archivo}.')\n",
        "\n",
        "#  Carpeta de entrada que contiene las imágenes 3D\n",
        "carpeta_entrada = 'content/DE-MRI_Classificacio_CNN/dataset/entrenament/normal'\n",
        "\n",
        "# Carpeta de salida para las imágenes 2D separadas\n",
        "carpeta_salida = 'content/DE-MRI_Classificacio_CNN/dataset/corr_entrenament/corr_normal'\n",
        "\n",
        "# Obtener la lista de archivos en la carpeta de entrada\n",
        "archivos = os.listdir(carpeta_entrada)\n",
        "\n",
        "# Procesar cada archivo en la carpeta de entrada\n",
        "for archivo in archivos:\n",
        "    # Comprobar si el archivo es un archivo NIfTI\n",
        "    if archivo.endswith('.nii.gz') or archivo.endswith('.nii'):\n",
        "        # Ruta completa del archivo de entrada\n",
        "        ruta_archivo = os.path.join(carpeta_entrada, archivo)\n",
        "\n",
        "        # Carpeta de salida para las imágenes 2D de esta imagen\n",
        "        carpeta_salida_imagen = os.path.join(carpeta_salida, os.path.splitext(archivo)[0])\n",
        "\n",
        "        # Convertir la imagen 3D a imágenes 2D en cortes\n",
        "        convertir_imagen_3D_a_2D(ruta_archivo, carpeta_salida_imagen)\n"
      ]
    }
  ]
}